{
 "cells": [
  {
   "cell_type": "code",
   "execution_count": 30,
   "metadata": {},
   "outputs": [
    {
     "data": {
      "text/html": [
       "<div>\n",
       "<style scoped>\n",
       "    .dataframe tbody tr th:only-of-type {\n",
       "        vertical-align: middle;\n",
       "    }\n",
       "\n",
       "    .dataframe tbody tr th {\n",
       "        vertical-align: top;\n",
       "    }\n",
       "\n",
       "    .dataframe thead th {\n",
       "        text-align: right;\n",
       "    }\n",
       "</style>\n",
       "<table border=\"1\" class=\"dataframe\">\n",
       "  <thead>\n",
       "    <tr style=\"text-align: right;\">\n",
       "      <th></th>\n",
       "      <th>Player</th>\n",
       "      <th>Tm</th>\n",
       "      <th>Pos</th>\n",
       "      <th>Cmp</th>\n",
       "      <th>Att</th>\n",
       "      <th>Yds</th>\n",
       "      <th>TD</th>\n",
       "      <th>Int</th>\n",
       "      <th>Lng</th>\n",
       "      <th>Sk</th>\n",
       "      <th>Yds.1</th>\n",
       "      <th>4QC</th>\n",
       "      <th>GWD</th>\n",
       "    </tr>\n",
       "  </thead>\n",
       "  <tbody>\n",
       "    <tr>\n",
       "      <th>0</th>\n",
       "      <td>Peyton Manning*</td>\n",
       "      <td>IND</td>\n",
       "      <td>QB</td>\n",
       "      <td>450</td>\n",
       "      <td>679</td>\n",
       "      <td>4700</td>\n",
       "      <td>33</td>\n",
       "      <td>17</td>\n",
       "      <td>73</td>\n",
       "      <td>16</td>\n",
       "      <td>91</td>\n",
       "      <td>0</td>\n",
       "      <td>2</td>\n",
       "    </tr>\n",
       "    <tr>\n",
       "      <th>1</th>\n",
       "      <td>Drew Brees*</td>\n",
       "      <td>NOR</td>\n",
       "      <td>QB</td>\n",
       "      <td>448</td>\n",
       "      <td>658</td>\n",
       "      <td>4620</td>\n",
       "      <td>33</td>\n",
       "      <td>22</td>\n",
       "      <td>80</td>\n",
       "      <td>25</td>\n",
       "      <td>185</td>\n",
       "      <td>4</td>\n",
       "      <td>5</td>\n",
       "    </tr>\n",
       "    <tr>\n",
       "      <th>2</th>\n",
       "      <td>Sam Bradford</td>\n",
       "      <td>STL</td>\n",
       "      <td>QB</td>\n",
       "      <td>354</td>\n",
       "      <td>590</td>\n",
       "      <td>3512</td>\n",
       "      <td>18</td>\n",
       "      <td>15</td>\n",
       "      <td>49</td>\n",
       "      <td>34</td>\n",
       "      <td>244</td>\n",
       "      <td>NaN</td>\n",
       "      <td>NaN</td>\n",
       "    </tr>\n",
       "    <tr>\n",
       "      <th>3</th>\n",
       "      <td>Carson Palmer</td>\n",
       "      <td>CIN</td>\n",
       "      <td>QB</td>\n",
       "      <td>362</td>\n",
       "      <td>586</td>\n",
       "      <td>3970</td>\n",
       "      <td>26</td>\n",
       "      <td>20</td>\n",
       "      <td>78</td>\n",
       "      <td>26</td>\n",
       "      <td>201</td>\n",
       "      <td>1</td>\n",
       "      <td>1</td>\n",
       "    </tr>\n",
       "    <tr>\n",
       "      <th>4</th>\n",
       "      <td>Matt Schaub</td>\n",
       "      <td>HOU</td>\n",
       "      <td>QB</td>\n",
       "      <td>365</td>\n",
       "      <td>574</td>\n",
       "      <td>4370</td>\n",
       "      <td>24</td>\n",
       "      <td>12</td>\n",
       "      <td>60</td>\n",
       "      <td>32</td>\n",
       "      <td>226</td>\n",
       "      <td>2</td>\n",
       "      <td>2</td>\n",
       "    </tr>\n",
       "  </tbody>\n",
       "</table>\n",
       "</div>"
      ],
      "text/plain": [
       "            Player   Tm Pos  Cmp  Att   Yds  TD Int Lng  Sk Yds.1  4QC  GWD\n",
       "0  Peyton Manning*  IND  QB  450  679  4700  33  17  73  16    91    0    2\n",
       "1      Drew Brees*  NOR  QB  448  658  4620  33  22  80  25   185    4    5\n",
       "2     Sam Bradford  STL  QB  354  590  3512  18  15  49  34   244  NaN  NaN\n",
       "3    Carson Palmer  CIN  QB  362  586  3970  26  20  78  26   201    1    1\n",
       "4      Matt Schaub  HOU  QB  365  574  4370  24  12  60  32   226    2    2"
      ]
     },
     "execution_count": 30,
     "metadata": {},
     "output_type": "execute_result"
    }
   ],
   "source": [
    "import pandas as pd\n",
    "data = pd.read_csv('2010_NFL_Passing.csv')\n",
    "data.head()"
   ]
  },
  {
   "cell_type": "code",
   "execution_count": 31,
   "metadata": {},
   "outputs": [
    {
     "data": {
      "text/plain": [
       "(105, 13)"
      ]
     },
     "execution_count": 31,
     "metadata": {},
     "output_type": "execute_result"
    }
   ],
   "source": [
    "data.shape"
   ]
  },
  {
   "cell_type": "code",
   "execution_count": 32,
   "metadata": {},
   "outputs": [
    {
     "data": {
      "text/plain": [
       "Player     0\n",
       "Tm         0\n",
       "Pos       52\n",
       "Cmp        0\n",
       "Att        0\n",
       "Yds        0\n",
       "TD         0\n",
       "Int        0\n",
       "Lng        0\n",
       "Sk         0\n",
       "Yds.1      0\n",
       "4QC       62\n",
       "GWD       62\n",
       "dtype: int64"
      ]
     },
     "execution_count": 32,
     "metadata": {},
     "output_type": "execute_result"
    }
   ],
   "source": [
    "data.isnull().sum()"
   ]
  },
  {
   "cell_type": "code",
   "execution_count": 33,
   "metadata": {},
   "outputs": [],
   "source": [
    "data.fillna(0, inplace=True)"
   ]
  },
  {
   "cell_type": "code",
   "execution_count": 34,
   "metadata": {},
   "outputs": [
    {
     "data": {
      "text/plain": [
       "Player    0\n",
       "Tm        0\n",
       "Pos       0\n",
       "Cmp       0\n",
       "Att       0\n",
       "Yds       0\n",
       "TD        0\n",
       "Int       0\n",
       "Lng       0\n",
       "Sk        0\n",
       "Yds.1     0\n",
       "4QC       0\n",
       "GWD       0\n",
       "dtype: int64"
      ]
     },
     "execution_count": 34,
     "metadata": {},
     "output_type": "execute_result"
    }
   ],
   "source": [
    "data.isnull().sum()"
   ]
  },
  {
   "cell_type": "code",
   "execution_count": 35,
   "metadata": {},
   "outputs": [],
   "source": [
    "import re\n",
    "PlayerName = []\n",
    "for i in data['Player']:\n",
    "    i = re.sub('[^A-Za-z0-9]+','',i)\n",
    "    PlayerName.append(i)\n",
    "    "
   ]
  },
  {
   "cell_type": "code",
   "execution_count": null,
   "metadata": {},
   "outputs": [],
   "source": [
    "# Comparisons to be made\n",
    "# LAST 10 Years\n",
    "\n",
    "Drew Brees      \n",
    "Tom Brady\n",
    "Aaron Rodgers"
   ]
  },
  {
   "cell_type": "code",
   "execution_count": null,
   "metadata": {},
   "outputs": [],
   "source": [
    "# Comparisons to be made\n",
    "#  2001 - 2015\n",
    "\n",
    "Peyton Manning    \n",
    "Tom Brady "
   ]
  },
  {
   "cell_type": "code",
   "execution_count": null,
   "metadata": {},
   "outputs": [],
   "source": [
    "# ALL Time  Duels\n",
    "\n",
    "Eli Manning \n",
    "Tom Brady"
   ]
  },
  {
   "cell_type": "code",
   "execution_count": null,
   "metadata": {},
   "outputs": [],
   "source": [
    "# All Time Duels\n",
    "\n",
    "Tom Brady \n",
    "Drew Brees"
   ]
  },
  {
   "cell_type": "code",
   "execution_count": null,
   "metadata": {},
   "outputs": [],
   "source": [
    "# 2019 Season Best QBs\n",
    "\n",
    "Lamar Jackson\n",
    "Patrick Mahomes\n",
    "Jared Goff\n",
    "Tom Brady\n",
    "Aaron Rodgers\n",
    "Jimmy G\n",
    "Deshaun Watson\n",
    "Drew Brees"
   ]
  },
  {
   "cell_type": "code",
   "execution_count": 37,
   "metadata": {},
   "outputs": [],
   "source": [
    "data['Player_Name'] = PlayerName"
   ]
  },
  {
   "cell_type": "code",
   "execution_count": 39,
   "metadata": {},
   "outputs": [
    {
     "data": {
      "text/html": [
       "<div>\n",
       "<style scoped>\n",
       "    .dataframe tbody tr th:only-of-type {\n",
       "        vertical-align: middle;\n",
       "    }\n",
       "\n",
       "    .dataframe tbody tr th {\n",
       "        vertical-align: top;\n",
       "    }\n",
       "\n",
       "    .dataframe thead th {\n",
       "        text-align: right;\n",
       "    }\n",
       "</style>\n",
       "<table border=\"1\" class=\"dataframe\">\n",
       "  <thead>\n",
       "    <tr style=\"text-align: right;\">\n",
       "      <th></th>\n",
       "      <th>Player</th>\n",
       "      <th>Tm</th>\n",
       "      <th>Pos</th>\n",
       "      <th>Cmp</th>\n",
       "      <th>Att</th>\n",
       "      <th>Yds</th>\n",
       "      <th>TD</th>\n",
       "      <th>Int</th>\n",
       "      <th>Lng</th>\n",
       "      <th>Sk</th>\n",
       "      <th>Yds.1</th>\n",
       "      <th>4QC</th>\n",
       "      <th>GWD</th>\n",
       "      <th>Player_Name</th>\n",
       "    </tr>\n",
       "  </thead>\n",
       "  <tbody>\n",
       "    <tr>\n",
       "      <th>0</th>\n",
       "      <td>Peyton Manning*</td>\n",
       "      <td>IND</td>\n",
       "      <td>QB</td>\n",
       "      <td>450</td>\n",
       "      <td>679</td>\n",
       "      <td>4700</td>\n",
       "      <td>33</td>\n",
       "      <td>17</td>\n",
       "      <td>73</td>\n",
       "      <td>16</td>\n",
       "      <td>91</td>\n",
       "      <td>0</td>\n",
       "      <td>2</td>\n",
       "      <td>PeytonManning</td>\n",
       "    </tr>\n",
       "    <tr>\n",
       "      <th>1</th>\n",
       "      <td>Drew Brees*</td>\n",
       "      <td>NOR</td>\n",
       "      <td>QB</td>\n",
       "      <td>448</td>\n",
       "      <td>658</td>\n",
       "      <td>4620</td>\n",
       "      <td>33</td>\n",
       "      <td>22</td>\n",
       "      <td>80</td>\n",
       "      <td>25</td>\n",
       "      <td>185</td>\n",
       "      <td>4</td>\n",
       "      <td>5</td>\n",
       "      <td>DrewBrees</td>\n",
       "    </tr>\n",
       "    <tr>\n",
       "      <th>2</th>\n",
       "      <td>Sam Bradford</td>\n",
       "      <td>STL</td>\n",
       "      <td>QB</td>\n",
       "      <td>354</td>\n",
       "      <td>590</td>\n",
       "      <td>3512</td>\n",
       "      <td>18</td>\n",
       "      <td>15</td>\n",
       "      <td>49</td>\n",
       "      <td>34</td>\n",
       "      <td>244</td>\n",
       "      <td>0</td>\n",
       "      <td>0</td>\n",
       "      <td>SamBradford</td>\n",
       "    </tr>\n",
       "    <tr>\n",
       "      <th>3</th>\n",
       "      <td>Carson Palmer</td>\n",
       "      <td>CIN</td>\n",
       "      <td>QB</td>\n",
       "      <td>362</td>\n",
       "      <td>586</td>\n",
       "      <td>3970</td>\n",
       "      <td>26</td>\n",
       "      <td>20</td>\n",
       "      <td>78</td>\n",
       "      <td>26</td>\n",
       "      <td>201</td>\n",
       "      <td>1</td>\n",
       "      <td>1</td>\n",
       "      <td>CarsonPalmer</td>\n",
       "    </tr>\n",
       "    <tr>\n",
       "      <th>4</th>\n",
       "      <td>Matt Schaub</td>\n",
       "      <td>HOU</td>\n",
       "      <td>QB</td>\n",
       "      <td>365</td>\n",
       "      <td>574</td>\n",
       "      <td>4370</td>\n",
       "      <td>24</td>\n",
       "      <td>12</td>\n",
       "      <td>60</td>\n",
       "      <td>32</td>\n",
       "      <td>226</td>\n",
       "      <td>2</td>\n",
       "      <td>2</td>\n",
       "      <td>MattSchaub</td>\n",
       "    </tr>\n",
       "  </tbody>\n",
       "</table>\n",
       "</div>"
      ],
      "text/plain": [
       "            Player   Tm Pos  Cmp  Att   Yds  TD Int Lng  Sk Yds.1 4QC GWD  \\\n",
       "0  Peyton Manning*  IND  QB  450  679  4700  33  17  73  16    91   0   2   \n",
       "1      Drew Brees*  NOR  QB  448  658  4620  33  22  80  25   185   4   5   \n",
       "2     Sam Bradford  STL  QB  354  590  3512  18  15  49  34   244   0   0   \n",
       "3    Carson Palmer  CIN  QB  362  586  3970  26  20  78  26   201   1   1   \n",
       "4      Matt Schaub  HOU  QB  365  574  4370  24  12  60  32   226   2   2   \n",
       "\n",
       "     Player_Name  \n",
       "0  PeytonManning  \n",
       "1      DrewBrees  \n",
       "2    SamBradford  \n",
       "3   CarsonPalmer  \n",
       "4     MattSchaub  "
      ]
     },
     "execution_count": 39,
     "metadata": {},
     "output_type": "execute_result"
    }
   ],
   "source": [
    "data.head()"
   ]
  },
  {
   "cell_type": "code",
   "execution_count": 40,
   "metadata": {},
   "outputs": [],
   "source": [
    "data = data.drop(data.columns[0], axis=1)"
   ]
  },
  {
   "cell_type": "code",
   "execution_count": 42,
   "metadata": {},
   "outputs": [
    {
     "data": {
      "text/html": [
       "<div>\n",
       "<style scoped>\n",
       "    .dataframe tbody tr th:only-of-type {\n",
       "        vertical-align: middle;\n",
       "    }\n",
       "\n",
       "    .dataframe tbody tr th {\n",
       "        vertical-align: top;\n",
       "    }\n",
       "\n",
       "    .dataframe thead th {\n",
       "        text-align: right;\n",
       "    }\n",
       "</style>\n",
       "<table border=\"1\" class=\"dataframe\">\n",
       "  <thead>\n",
       "    <tr style=\"text-align: right;\">\n",
       "      <th></th>\n",
       "      <th>Tm</th>\n",
       "      <th>Pos</th>\n",
       "      <th>Cmp</th>\n",
       "      <th>Att</th>\n",
       "      <th>Yds</th>\n",
       "      <th>TD</th>\n",
       "      <th>Int</th>\n",
       "      <th>Lng</th>\n",
       "      <th>Sk</th>\n",
       "      <th>Yds.1</th>\n",
       "      <th>4QC</th>\n",
       "      <th>GWD</th>\n",
       "      <th>Player_Name</th>\n",
       "    </tr>\n",
       "  </thead>\n",
       "  <tbody>\n",
       "    <tr>\n",
       "      <th>0</th>\n",
       "      <td>IND</td>\n",
       "      <td>QB</td>\n",
       "      <td>450</td>\n",
       "      <td>679</td>\n",
       "      <td>4700</td>\n",
       "      <td>33</td>\n",
       "      <td>17</td>\n",
       "      <td>73</td>\n",
       "      <td>16</td>\n",
       "      <td>91</td>\n",
       "      <td>0</td>\n",
       "      <td>2</td>\n",
       "      <td>PeytonManning</td>\n",
       "    </tr>\n",
       "    <tr>\n",
       "      <th>1</th>\n",
       "      <td>NOR</td>\n",
       "      <td>QB</td>\n",
       "      <td>448</td>\n",
       "      <td>658</td>\n",
       "      <td>4620</td>\n",
       "      <td>33</td>\n",
       "      <td>22</td>\n",
       "      <td>80</td>\n",
       "      <td>25</td>\n",
       "      <td>185</td>\n",
       "      <td>4</td>\n",
       "      <td>5</td>\n",
       "      <td>DrewBrees</td>\n",
       "    </tr>\n",
       "    <tr>\n",
       "      <th>2</th>\n",
       "      <td>STL</td>\n",
       "      <td>QB</td>\n",
       "      <td>354</td>\n",
       "      <td>590</td>\n",
       "      <td>3512</td>\n",
       "      <td>18</td>\n",
       "      <td>15</td>\n",
       "      <td>49</td>\n",
       "      <td>34</td>\n",
       "      <td>244</td>\n",
       "      <td>0</td>\n",
       "      <td>0</td>\n",
       "      <td>SamBradford</td>\n",
       "    </tr>\n",
       "    <tr>\n",
       "      <th>3</th>\n",
       "      <td>CIN</td>\n",
       "      <td>QB</td>\n",
       "      <td>362</td>\n",
       "      <td>586</td>\n",
       "      <td>3970</td>\n",
       "      <td>26</td>\n",
       "      <td>20</td>\n",
       "      <td>78</td>\n",
       "      <td>26</td>\n",
       "      <td>201</td>\n",
       "      <td>1</td>\n",
       "      <td>1</td>\n",
       "      <td>CarsonPalmer</td>\n",
       "    </tr>\n",
       "    <tr>\n",
       "      <th>4</th>\n",
       "      <td>HOU</td>\n",
       "      <td>QB</td>\n",
       "      <td>365</td>\n",
       "      <td>574</td>\n",
       "      <td>4370</td>\n",
       "      <td>24</td>\n",
       "      <td>12</td>\n",
       "      <td>60</td>\n",
       "      <td>32</td>\n",
       "      <td>226</td>\n",
       "      <td>2</td>\n",
       "      <td>2</td>\n",
       "      <td>MattSchaub</td>\n",
       "    </tr>\n",
       "  </tbody>\n",
       "</table>\n",
       "</div>"
      ],
      "text/plain": [
       "    Tm Pos  Cmp  Att   Yds  TD Int Lng  Sk Yds.1 4QC GWD    Player_Name\n",
       "0  IND  QB  450  679  4700  33  17  73  16    91   0   2  PeytonManning\n",
       "1  NOR  QB  448  658  4620  33  22  80  25   185   4   5      DrewBrees\n",
       "2  STL  QB  354  590  3512  18  15  49  34   244   0   0    SamBradford\n",
       "3  CIN  QB  362  586  3970  26  20  78  26   201   1   1   CarsonPalmer\n",
       "4  HOU  QB  365  574  4370  24  12  60  32   226   2   2     MattSchaub"
      ]
     },
     "execution_count": 42,
     "metadata": {},
     "output_type": "execute_result"
    }
   ],
   "source": [
    "data.head()"
   ]
  },
  {
   "cell_type": "code",
   "execution_count": 52,
   "metadata": {},
   "outputs": [],
   "source": [
    "QB = ['PeytonManning','DrewBrees','TomBrady','AaronRodgers','EliManning']\n",
    "final = data[data['Player_Name'].isin(QB)]   "
   ]
  },
  {
   "cell_type": "code",
   "execution_count": 53,
   "metadata": {},
   "outputs": [
    {
     "data": {
      "text/plain": [
       "(5, 13)"
      ]
     },
     "execution_count": 53,
     "metadata": {},
     "output_type": "execute_result"
    }
   ],
   "source": [
    "final.shape"
   ]
  },
  {
   "cell_type": "code",
   "execution_count": 54,
   "metadata": {},
   "outputs": [
    {
     "data": {
      "text/html": [
       "<div>\n",
       "<style scoped>\n",
       "    .dataframe tbody tr th:only-of-type {\n",
       "        vertical-align: middle;\n",
       "    }\n",
       "\n",
       "    .dataframe tbody tr th {\n",
       "        vertical-align: top;\n",
       "    }\n",
       "\n",
       "    .dataframe thead th {\n",
       "        text-align: right;\n",
       "    }\n",
       "</style>\n",
       "<table border=\"1\" class=\"dataframe\">\n",
       "  <thead>\n",
       "    <tr style=\"text-align: right;\">\n",
       "      <th></th>\n",
       "      <th>Tm</th>\n",
       "      <th>Pos</th>\n",
       "      <th>Cmp</th>\n",
       "      <th>Att</th>\n",
       "      <th>Yds</th>\n",
       "      <th>TD</th>\n",
       "      <th>Int</th>\n",
       "      <th>Lng</th>\n",
       "      <th>Sk</th>\n",
       "      <th>Yds.1</th>\n",
       "      <th>4QC</th>\n",
       "      <th>GWD</th>\n",
       "      <th>Player_Name</th>\n",
       "    </tr>\n",
       "  </thead>\n",
       "  <tbody>\n",
       "    <tr>\n",
       "      <th>0</th>\n",
       "      <td>IND</td>\n",
       "      <td>QB</td>\n",
       "      <td>450</td>\n",
       "      <td>679</td>\n",
       "      <td>4700</td>\n",
       "      <td>33</td>\n",
       "      <td>17</td>\n",
       "      <td>73</td>\n",
       "      <td>16</td>\n",
       "      <td>91</td>\n",
       "      <td>0</td>\n",
       "      <td>2</td>\n",
       "      <td>PeytonManning</td>\n",
       "    </tr>\n",
       "    <tr>\n",
       "      <th>1</th>\n",
       "      <td>NOR</td>\n",
       "      <td>QB</td>\n",
       "      <td>448</td>\n",
       "      <td>658</td>\n",
       "      <td>4620</td>\n",
       "      <td>33</td>\n",
       "      <td>22</td>\n",
       "      <td>80</td>\n",
       "      <td>25</td>\n",
       "      <td>185</td>\n",
       "      <td>4</td>\n",
       "      <td>5</td>\n",
       "      <td>DrewBrees</td>\n",
       "    </tr>\n",
       "    <tr>\n",
       "      <th>7</th>\n",
       "      <td>NYG</td>\n",
       "      <td>QB</td>\n",
       "      <td>339</td>\n",
       "      <td>539</td>\n",
       "      <td>4002</td>\n",
       "      <td>31</td>\n",
       "      <td>25</td>\n",
       "      <td>92</td>\n",
       "      <td>16</td>\n",
       "      <td>117</td>\n",
       "      <td>1</td>\n",
       "      <td>1</td>\n",
       "      <td>EliManning</td>\n",
       "    </tr>\n",
       "    <tr>\n",
       "      <th>10</th>\n",
       "      <td>NWE</td>\n",
       "      <td>QB</td>\n",
       "      <td>324</td>\n",
       "      <td>492</td>\n",
       "      <td>3900</td>\n",
       "      <td>36</td>\n",
       "      <td>4</td>\n",
       "      <td>79</td>\n",
       "      <td>25</td>\n",
       "      <td>175</td>\n",
       "      <td>2</td>\n",
       "      <td>3</td>\n",
       "      <td>TomBrady</td>\n",
       "    </tr>\n",
       "    <tr>\n",
       "      <th>13</th>\n",
       "      <td>GNB</td>\n",
       "      <td>QB</td>\n",
       "      <td>312</td>\n",
       "      <td>475</td>\n",
       "      <td>3922</td>\n",
       "      <td>28</td>\n",
       "      <td>11</td>\n",
       "      <td>86</td>\n",
       "      <td>31</td>\n",
       "      <td>193</td>\n",
       "      <td>0</td>\n",
       "      <td>1</td>\n",
       "      <td>AaronRodgers</td>\n",
       "    </tr>\n",
       "  </tbody>\n",
       "</table>\n",
       "</div>"
      ],
      "text/plain": [
       "     Tm Pos  Cmp  Att   Yds  TD Int Lng  Sk Yds.1 4QC GWD    Player_Name\n",
       "0   IND  QB  450  679  4700  33  17  73  16    91   0   2  PeytonManning\n",
       "1   NOR  QB  448  658  4620  33  22  80  25   185   4   5      DrewBrees\n",
       "7   NYG  QB  339  539  4002  31  25  92  16   117   1   1     EliManning\n",
       "10  NWE  QB  324  492  3900  36   4  79  25   175   2   3       TomBrady\n",
       "13  GNB  QB  312  475  3922  28  11  86  31   193   0   1   AaronRodgers"
      ]
     },
     "execution_count": 54,
     "metadata": {},
     "output_type": "execute_result"
    }
   ],
   "source": [
    "final"
   ]
  },
  {
   "cell_type": "code",
   "execution_count": 187,
   "metadata": {},
   "outputs": [
    {
     "name": "stdout",
     "output_type": "stream",
     "text": [
      "    Tm Pos  Cmp  Att   Yds  TD Int Lng  Sk Yds.1 4QC GWD    Player_Name    Yr\n",
      "0  IND  QB  343  547  4131  26  23  86  29   232   0   0  PeytonManning  2001\n",
      "1  NWE  QB  264  413  2843  18  12  91  41   216   3   3       TomBrady  2001\n"
     ]
    },
    {
     "name": "stderr",
     "output_type": "stream",
     "text": [
      "D:\\ANA\\lib\\site-packages\\ipykernel_launcher.py:32: SettingWithCopyWarning: \n",
      "A value is trying to be set on a copy of a slice from a DataFrame.\n",
      "Try using .loc[row_indexer,col_indexer] = value instead\n",
      "\n",
      "See the caveats in the documentation: https://pandas.pydata.org/pandas-docs/stable/user_guide/indexing.html#returning-a-view-versus-a-copy\n"
     ]
    }
   ],
   "source": [
    "# TOM BRADY V/S PEYTON MANNING\n",
    "year_col = []\n",
    "\n",
    "for i in range(2001,2002):\n",
    "    \n",
    "    # For Tom Brady vs Peyton Manning\n",
    "    # As we are comparing 2 players i.e. length of QB list \n",
    "    # we have\n",
    "    QB = ['PeytonManning','TomBrady']\n",
    "\n",
    "    for j in range(len(QB)):\n",
    "        year_col.append(i)\n",
    "        \n",
    "    yr = str(i)\n",
    "    file_name = yr + '_NFL_Passing.csv'\n",
    "    dataa = 'data_' + yr\n",
    "    dataa = pd.read_csv(file_name)\n",
    "    dataa.fillna(0, inplace=True)\n",
    "        \n",
    "    PlayerName = []\n",
    "    \n",
    "    for i in dataa['Player']:\n",
    "        i = re.sub('[^A-Za-z0-9]+','',i)\n",
    "        PlayerName.append(i)\n",
    "    \n",
    "    dataa['Player_Name'] = PlayerName\n",
    "    dataa = dataa.drop(dataa.columns[0], axis=1)\n",
    "        \n",
    "    QB = ['PeytonManning','TomBrady']\n",
    "    final_data2 = dataa[dataa['Player_Name'].isin(QB)]\n",
    "    \n",
    "    final_data2['Yr'] = year_col\n",
    "    final_data2.reset_index(drop=True, inplace=True)\n",
    "    \n",
    "    #colss = final_data.columns.tolist()\n",
    "    #colss = colss[-1:] + colss[:-1]\n",
    "     \n",
    "    print(final_data2)\n",
    "    "
   ]
  },
  {
   "cell_type": "code",
   "execution_count": 183,
   "metadata": {},
   "outputs": [
    {
     "data": {
      "text/html": [
       "<div>\n",
       "<style scoped>\n",
       "    .dataframe tbody tr th:only-of-type {\n",
       "        vertical-align: middle;\n",
       "    }\n",
       "\n",
       "    .dataframe tbody tr th {\n",
       "        vertical-align: top;\n",
       "    }\n",
       "\n",
       "    .dataframe thead th {\n",
       "        text-align: right;\n",
       "    }\n",
       "</style>\n",
       "<table border=\"1\" class=\"dataframe\">\n",
       "  <thead>\n",
       "    <tr style=\"text-align: right;\">\n",
       "      <th></th>\n",
       "      <th>Tm</th>\n",
       "      <th>Pos</th>\n",
       "      <th>Cmp</th>\n",
       "      <th>Att</th>\n",
       "      <th>Yds</th>\n",
       "      <th>TD</th>\n",
       "      <th>Int</th>\n",
       "      <th>Lng</th>\n",
       "      <th>Sk</th>\n",
       "      <th>Yds.1</th>\n",
       "      <th>4QC</th>\n",
       "      <th>GWD</th>\n",
       "      <th>Player_Name</th>\n",
       "      <th>Year</th>\n",
       "    </tr>\n",
       "  </thead>\n",
       "  <tbody>\n",
       "    <tr>\n",
       "      <th>0</th>\n",
       "      <td>IND</td>\n",
       "      <td>QB</td>\n",
       "      <td>343</td>\n",
       "      <td>547</td>\n",
       "      <td>4131</td>\n",
       "      <td>26</td>\n",
       "      <td>23</td>\n",
       "      <td>86</td>\n",
       "      <td>29</td>\n",
       "      <td>232</td>\n",
       "      <td>0</td>\n",
       "      <td>0</td>\n",
       "      <td>PeytonManning</td>\n",
       "      <td>2001</td>\n",
       "    </tr>\n",
       "    <tr>\n",
       "      <th>1</th>\n",
       "      <td>NWE</td>\n",
       "      <td>QB</td>\n",
       "      <td>264</td>\n",
       "      <td>413</td>\n",
       "      <td>2843</td>\n",
       "      <td>18</td>\n",
       "      <td>12</td>\n",
       "      <td>91</td>\n",
       "      <td>41</td>\n",
       "      <td>216</td>\n",
       "      <td>3</td>\n",
       "      <td>3</td>\n",
       "      <td>TomBrady</td>\n",
       "      <td>2001</td>\n",
       "    </tr>\n",
       "  </tbody>\n",
       "</table>\n",
       "</div>"
      ],
      "text/plain": [
       "    Tm Pos  Cmp  Att   Yds  TD Int Lng  Sk Yds.1 4QC GWD    Player_Name  Year\n",
       "0  IND  QB  343  547  4131  26  23  86  29   232   0   0  PeytonManning  2001\n",
       "1  NWE  QB  264  413  2843  18  12  91  41   216   3   3       TomBrady  2001"
      ]
     },
     "execution_count": 183,
     "metadata": {},
     "output_type": "execute_result"
    }
   ],
   "source": [
    "final_data1"
   ]
  },
  {
   "cell_type": "code",
   "execution_count": 73,
   "metadata": {},
   "outputs": [
    {
     "name": "stdout",
     "output_type": "stream",
     "text": [
      "['Year', 'Tm', 'Pos', 'Cmp', 'Att', 'Yds', 'TD', 'Int', 'Lng', 'Sk', 'Yds.1', '4QC', 'GWD', 'Player_Name']\n"
     ]
    }
   ],
   "source": [
    "colss = final_data.columns.tolist()\n",
    "colss = colss[-1:] + colss[:-1]\n",
    "print(colss)"
   ]
  },
  {
   "cell_type": "code",
   "execution_count": 74,
   "metadata": {},
   "outputs": [
    {
     "name": "stdout",
     "output_type": "stream",
     "text": [
      "['Player_Name', 'Year', 'Tm', 'Pos', 'Cmp', 'Att', 'Yds', 'TD', 'Int', 'Lng', 'Sk', 'Yds.1', '4QC', 'GWD']\n"
     ]
    }
   ],
   "source": [
    "colss = colss[-1:] + colss[:-1]\n",
    "print(colss)"
   ]
  },
  {
   "cell_type": "code",
   "execution_count": 75,
   "metadata": {},
   "outputs": [
    {
     "name": "stdout",
     "output_type": "stream",
     "text": [
      "    Tm Pos  Cmp  Att   Yds  TD Int Lng  Sk Yds.1 4QC GWD    Player_Name  Year\n",
      "0  IND  QB  343  547  4131  26  23  86  29   232   0   0  PeytonManning  2001\n",
      "1  NWE  QB  264  413  2843  18  12  91  41   216   3   3       TomBrady  2001\n"
     ]
    }
   ],
   "source": [
    "print(final_data)"
   ]
  },
  {
   "cell_type": "code",
   "execution_count": 76,
   "metadata": {},
   "outputs": [
    {
     "name": "stdout",
     "output_type": "stream",
     "text": [
      "     Player_Name  Year   Tm Pos  Cmp  Att   Yds  TD Int Lng  Sk Yds.1 4QC GWD\n",
      "0  PeytonManning  2001  IND  QB  343  547  4131  26  23  86  29   232   0   0\n",
      "1       TomBrady  2001  NWE  QB  264  413  2843  18  12  91  41   216   3   3\n"
     ]
    }
   ],
   "source": [
    "#  TOM BRADY V/S PEYTON MANNING\n",
    "print(final_data[colss])"
   ]
  },
  {
   "cell_type": "code",
   "execution_count": 78,
   "metadata": {},
   "outputs": [
    {
     "name": "stdout",
     "output_type": "stream",
     "text": [
      "     Player_Name  Year   Tm Pos  Cmp  Att   Yds  TD Int Lng  Sk Yds.1 4QC GWD\n",
      "0  PeytonManning  2001  IND  QB  343  547  4131  26  23  86  29   232   0   0\n",
      "1       TomBrady  2001  NWE  QB  264  413  2843  18  12  91  41   216   3   3\n"
     ]
    }
   ],
   "source": [
    "print(final_data[colss])"
   ]
  },
  {
   "cell_type": "code",
   "execution_count": 79,
   "metadata": {},
   "outputs": [],
   "source": [
    "final_data = final_data[colss]"
   ]
  },
  {
   "cell_type": "code",
   "execution_count": 80,
   "metadata": {},
   "outputs": [
    {
     "name": "stdout",
     "output_type": "stream",
     "text": [
      "     Player_Name  Year   Tm Pos  Cmp  Att   Yds  TD Int Lng  Sk Yds.1 4QC GWD\n",
      "0  PeytonManning  2001  IND  QB  343  547  4131  26  23  86  29   232   0   0\n",
      "1       TomBrady  2001  NWE  QB  264  413  2843  18  12  91  41   216   3   3\n"
     ]
    }
   ],
   "source": [
    "print(final_data)"
   ]
  },
  {
   "cell_type": "code",
   "execution_count": 81,
   "metadata": {},
   "outputs": [
    {
     "name": "stdout",
     "output_type": "stream",
     "text": [
      "     Player_Name  Year   Tm Pos  Cmp  Att   Yds  TD Int Lng  Sk Yds.1 4QC GWD\n",
      "0  PeytonManning  2001  IND  QB  343  547  4131  26  23  86  29   232   0   0\n",
      "1       TomBrady  2001  NWE  QB  264  413  2843  18  12  91  41   216   3   3\n"
     ]
    }
   ],
   "source": [
    "f1 = final_data\n",
    "print(f1)"
   ]
  },
  {
   "cell_type": "code",
   "execution_count": 89,
   "metadata": {},
   "outputs": [
    {
     "data": {
      "text/html": [
       "<div>\n",
       "<style scoped>\n",
       "    .dataframe tbody tr th:only-of-type {\n",
       "        vertical-align: middle;\n",
       "    }\n",
       "\n",
       "    .dataframe tbody tr th {\n",
       "        vertical-align: top;\n",
       "    }\n",
       "\n",
       "    .dataframe thead th {\n",
       "        text-align: right;\n",
       "    }\n",
       "</style>\n",
       "<table border=\"1\" class=\"dataframe\">\n",
       "  <thead>\n",
       "    <tr style=\"text-align: right;\">\n",
       "      <th></th>\n",
       "      <th>Player_Name</th>\n",
       "      <th>Year</th>\n",
       "      <th>Tm</th>\n",
       "      <th>Pos</th>\n",
       "      <th>Cmp</th>\n",
       "      <th>Att</th>\n",
       "      <th>Yds</th>\n",
       "      <th>TD</th>\n",
       "      <th>Int</th>\n",
       "      <th>Lng</th>\n",
       "      <th>Sk</th>\n",
       "      <th>Yds.1</th>\n",
       "      <th>4QC</th>\n",
       "      <th>GWD</th>\n",
       "    </tr>\n",
       "  </thead>\n",
       "  <tbody>\n",
       "    <tr>\n",
       "      <th>0</th>\n",
       "      <td>PeytonManning</td>\n",
       "      <td>2001</td>\n",
       "      <td>IND</td>\n",
       "      <td>QB</td>\n",
       "      <td>343</td>\n",
       "      <td>547</td>\n",
       "      <td>4131</td>\n",
       "      <td>26</td>\n",
       "      <td>23</td>\n",
       "      <td>86</td>\n",
       "      <td>29</td>\n",
       "      <td>232</td>\n",
       "      <td>0</td>\n",
       "      <td>0</td>\n",
       "    </tr>\n",
       "    <tr>\n",
       "      <th>1</th>\n",
       "      <td>TomBrady</td>\n",
       "      <td>2001</td>\n",
       "      <td>NWE</td>\n",
       "      <td>QB</td>\n",
       "      <td>264</td>\n",
       "      <td>413</td>\n",
       "      <td>2843</td>\n",
       "      <td>18</td>\n",
       "      <td>12</td>\n",
       "      <td>91</td>\n",
       "      <td>41</td>\n",
       "      <td>216</td>\n",
       "      <td>3</td>\n",
       "      <td>3</td>\n",
       "    </tr>\n",
       "  </tbody>\n",
       "</table>\n",
       "</div>"
      ],
      "text/plain": [
       "     Player_Name  Year   Tm Pos  Cmp  Att   Yds  TD Int Lng  Sk Yds.1 4QC GWD\n",
       "0  PeytonManning  2001  IND  QB  343  547  4131  26  23  86  29   232   0   0\n",
       "1       TomBrady  2001  NWE  QB  264  413  2843  18  12  91  41   216   3   3"
      ]
     },
     "execution_count": 89,
     "metadata": {},
     "output_type": "execute_result"
    }
   ],
   "source": [
    "f1"
   ]
  },
  {
   "cell_type": "code",
   "execution_count": 99,
   "metadata": {},
   "outputs": [],
   "source": [
    "for i in final_data.index:\n",
    "    #print(i)\n",
    "    f2 = f2.append(final_data.iloc[i],ignore_index=False, verify_integrity=False, sort=None)"
   ]
  },
  {
   "cell_type": "code",
   "execution_count": 98,
   "metadata": {},
   "outputs": [],
   "source": [
    "f2 = final_data"
   ]
  },
  {
   "cell_type": "code",
   "execution_count": 110,
   "metadata": {},
   "outputs": [
    {
     "data": {
      "text/html": [
       "<div>\n",
       "<style scoped>\n",
       "    .dataframe tbody tr th:only-of-type {\n",
       "        vertical-align: middle;\n",
       "    }\n",
       "\n",
       "    .dataframe tbody tr th {\n",
       "        vertical-align: top;\n",
       "    }\n",
       "\n",
       "    .dataframe thead th {\n",
       "        text-align: right;\n",
       "    }\n",
       "</style>\n",
       "<table border=\"1\" class=\"dataframe\">\n",
       "  <thead>\n",
       "    <tr style=\"text-align: right;\">\n",
       "      <th></th>\n",
       "      <th>Player_Name</th>\n",
       "      <th>Year</th>\n",
       "      <th>Tm</th>\n",
       "      <th>Pos</th>\n",
       "      <th>Cmp</th>\n",
       "      <th>Att</th>\n",
       "      <th>Yds</th>\n",
       "      <th>TD</th>\n",
       "      <th>Int</th>\n",
       "      <th>Lng</th>\n",
       "      <th>Sk</th>\n",
       "      <th>Yds.1</th>\n",
       "      <th>4QC</th>\n",
       "      <th>GWD</th>\n",
       "    </tr>\n",
       "  </thead>\n",
       "  <tbody>\n",
       "    <tr>\n",
       "      <th>0</th>\n",
       "      <td>PeytonManning</td>\n",
       "      <td>2001</td>\n",
       "      <td>IND</td>\n",
       "      <td>QB</td>\n",
       "      <td>343</td>\n",
       "      <td>547</td>\n",
       "      <td>4131</td>\n",
       "      <td>26</td>\n",
       "      <td>23</td>\n",
       "      <td>86</td>\n",
       "      <td>29</td>\n",
       "      <td>232</td>\n",
       "      <td>0</td>\n",
       "      <td>0</td>\n",
       "    </tr>\n",
       "    <tr>\n",
       "      <th>1</th>\n",
       "      <td>TomBrady</td>\n",
       "      <td>2001</td>\n",
       "      <td>NWE</td>\n",
       "      <td>QB</td>\n",
       "      <td>264</td>\n",
       "      <td>413</td>\n",
       "      <td>2843</td>\n",
       "      <td>18</td>\n",
       "      <td>12</td>\n",
       "      <td>91</td>\n",
       "      <td>41</td>\n",
       "      <td>216</td>\n",
       "      <td>3</td>\n",
       "      <td>3</td>\n",
       "    </tr>\n",
       "  </tbody>\n",
       "</table>\n",
       "</div>"
      ],
      "text/plain": [
       "     Player_Name  Year   Tm Pos  Cmp  Att   Yds  TD Int Lng  Sk Yds.1 4QC GWD\n",
       "0  PeytonManning  2001  IND  QB  343  547  4131  26  23  86  29   232   0   0\n",
       "1       TomBrady  2001  NWE  QB  264  413  2843  18  12  91  41   216   3   3"
      ]
     },
     "execution_count": 110,
     "metadata": {},
     "output_type": "execute_result"
    }
   ],
   "source": [
    "final_data"
   ]
  },
  {
   "cell_type": "code",
   "execution_count": 107,
   "metadata": {},
   "outputs": [
    {
     "data": {
      "text/plain": [
       "pandas.core.frame.DataFrame"
      ]
     },
     "execution_count": 107,
     "metadata": {},
     "output_type": "execute_result"
    }
   ],
   "source": [
    "type(final_data)"
   ]
  },
  {
   "cell_type": "code",
   "execution_count": 108,
   "metadata": {},
   "outputs": [],
   "source": [
    "group_by_f2 = final_data.groupby('Player_Name')"
   ]
  },
  {
   "cell_type": "code",
   "execution_count": 109,
   "metadata": {},
   "outputs": [
    {
     "data": {
      "text/html": [
       "<div>\n",
       "<style scoped>\n",
       "    .dataframe tbody tr th:only-of-type {\n",
       "        vertical-align: middle;\n",
       "    }\n",
       "\n",
       "    .dataframe tbody tr th {\n",
       "        vertical-align: top;\n",
       "    }\n",
       "\n",
       "    .dataframe thead th {\n",
       "        text-align: right;\n",
       "    }\n",
       "</style>\n",
       "<table border=\"1\" class=\"dataframe\">\n",
       "  <thead>\n",
       "    <tr style=\"text-align: right;\">\n",
       "      <th></th>\n",
       "      <th>Player_Name</th>\n",
       "      <th>Year</th>\n",
       "      <th>Tm</th>\n",
       "      <th>Pos</th>\n",
       "      <th>Cmp</th>\n",
       "      <th>Att</th>\n",
       "      <th>Yds</th>\n",
       "      <th>TD</th>\n",
       "      <th>Int</th>\n",
       "      <th>Lng</th>\n",
       "      <th>Sk</th>\n",
       "      <th>Yds.1</th>\n",
       "      <th>4QC</th>\n",
       "      <th>GWD</th>\n",
       "    </tr>\n",
       "  </thead>\n",
       "  <tbody>\n",
       "    <tr>\n",
       "      <th>0</th>\n",
       "      <td>PeytonManning</td>\n",
       "      <td>2001</td>\n",
       "      <td>IND</td>\n",
       "      <td>QB</td>\n",
       "      <td>343</td>\n",
       "      <td>547</td>\n",
       "      <td>4131</td>\n",
       "      <td>26</td>\n",
       "      <td>23</td>\n",
       "      <td>86</td>\n",
       "      <td>29</td>\n",
       "      <td>232</td>\n",
       "      <td>0</td>\n",
       "      <td>0</td>\n",
       "    </tr>\n",
       "  </tbody>\n",
       "</table>\n",
       "</div>"
      ],
      "text/plain": [
       "     Player_Name  Year   Tm Pos  Cmp  Att   Yds  TD Int Lng  Sk Yds.1 4QC GWD\n",
       "0  PeytonManning  2001  IND  QB  343  547  4131  26  23  86  29   232   0   0"
      ]
     },
     "execution_count": 109,
     "metadata": {},
     "output_type": "execute_result"
    }
   ],
   "source": [
    "group_by_f2.get_group('PeytonManning')"
   ]
  },
  {
   "cell_type": "code",
   "execution_count": 111,
   "metadata": {},
   "outputs": [],
   "source": [
    "TB12 = group_by_f2.get_group('TomBrady')"
   ]
  },
  {
   "cell_type": "code",
   "execution_count": 112,
   "metadata": {},
   "outputs": [
    {
     "data": {
      "text/html": [
       "<div>\n",
       "<style scoped>\n",
       "    .dataframe tbody tr th:only-of-type {\n",
       "        vertical-align: middle;\n",
       "    }\n",
       "\n",
       "    .dataframe tbody tr th {\n",
       "        vertical-align: top;\n",
       "    }\n",
       "\n",
       "    .dataframe thead th {\n",
       "        text-align: right;\n",
       "    }\n",
       "</style>\n",
       "<table border=\"1\" class=\"dataframe\">\n",
       "  <thead>\n",
       "    <tr style=\"text-align: right;\">\n",
       "      <th></th>\n",
       "      <th>Player_Name</th>\n",
       "      <th>Year</th>\n",
       "      <th>Tm</th>\n",
       "      <th>Pos</th>\n",
       "      <th>Cmp</th>\n",
       "      <th>Att</th>\n",
       "      <th>Yds</th>\n",
       "      <th>TD</th>\n",
       "      <th>Int</th>\n",
       "      <th>Lng</th>\n",
       "      <th>Sk</th>\n",
       "      <th>Yds.1</th>\n",
       "      <th>4QC</th>\n",
       "      <th>GWD</th>\n",
       "    </tr>\n",
       "  </thead>\n",
       "  <tbody>\n",
       "    <tr>\n",
       "      <th>1</th>\n",
       "      <td>TomBrady</td>\n",
       "      <td>2001</td>\n",
       "      <td>NWE</td>\n",
       "      <td>QB</td>\n",
       "      <td>264</td>\n",
       "      <td>413</td>\n",
       "      <td>2843</td>\n",
       "      <td>18</td>\n",
       "      <td>12</td>\n",
       "      <td>91</td>\n",
       "      <td>41</td>\n",
       "      <td>216</td>\n",
       "      <td>3</td>\n",
       "      <td>3</td>\n",
       "    </tr>\n",
       "  </tbody>\n",
       "</table>\n",
       "</div>"
      ],
      "text/plain": [
       "  Player_Name  Year   Tm Pos  Cmp  Att   Yds  TD Int Lng  Sk Yds.1 4QC GWD\n",
       "1    TomBrady  2001  NWE  QB  264  413  2843  18  12  91  41   216   3   3"
      ]
     },
     "execution_count": 112,
     "metadata": {},
     "output_type": "execute_result"
    }
   ],
   "source": [
    "TB12"
   ]
  },
  {
   "cell_type": "code",
   "execution_count": 113,
   "metadata": {},
   "outputs": [
    {
     "data": {
      "text/html": [
       "<div>\n",
       "<style scoped>\n",
       "    .dataframe tbody tr th:only-of-type {\n",
       "        vertical-align: middle;\n",
       "    }\n",
       "\n",
       "    .dataframe tbody tr th {\n",
       "        vertical-align: top;\n",
       "    }\n",
       "\n",
       "    .dataframe thead th {\n",
       "        text-align: right;\n",
       "    }\n",
       "</style>\n",
       "<table border=\"1\" class=\"dataframe\">\n",
       "  <thead>\n",
       "    <tr style=\"text-align: right;\">\n",
       "      <th></th>\n",
       "      <th>Player_Name</th>\n",
       "      <th>Year</th>\n",
       "      <th>Tm</th>\n",
       "      <th>Pos</th>\n",
       "      <th>Cmp</th>\n",
       "      <th>Att</th>\n",
       "      <th>Yds</th>\n",
       "      <th>TD</th>\n",
       "      <th>Int</th>\n",
       "      <th>Lng</th>\n",
       "      <th>Sk</th>\n",
       "      <th>Yds.1</th>\n",
       "      <th>4QC</th>\n",
       "      <th>GWD</th>\n",
       "    </tr>\n",
       "  </thead>\n",
       "  <tbody>\n",
       "    <tr>\n",
       "      <th>0</th>\n",
       "      <td>PeytonManning</td>\n",
       "      <td>2001</td>\n",
       "      <td>IND</td>\n",
       "      <td>QB</td>\n",
       "      <td>343</td>\n",
       "      <td>547</td>\n",
       "      <td>4131</td>\n",
       "      <td>26</td>\n",
       "      <td>23</td>\n",
       "      <td>86</td>\n",
       "      <td>29</td>\n",
       "      <td>232</td>\n",
       "      <td>0</td>\n",
       "      <td>0</td>\n",
       "    </tr>\n",
       "    <tr>\n",
       "      <th>1</th>\n",
       "      <td>TomBrady</td>\n",
       "      <td>2001</td>\n",
       "      <td>NWE</td>\n",
       "      <td>QB</td>\n",
       "      <td>264</td>\n",
       "      <td>413</td>\n",
       "      <td>2843</td>\n",
       "      <td>18</td>\n",
       "      <td>12</td>\n",
       "      <td>91</td>\n",
       "      <td>41</td>\n",
       "      <td>216</td>\n",
       "      <td>3</td>\n",
       "      <td>3</td>\n",
       "    </tr>\n",
       "  </tbody>\n",
       "</table>\n",
       "</div>"
      ],
      "text/plain": [
       "     Player_Name  Year   Tm Pos  Cmp  Att   Yds  TD Int Lng  Sk Yds.1 4QC GWD\n",
       "0  PeytonManning  2001  IND  QB  343  547  4131  26  23  86  29   232   0   0\n",
       "1       TomBrady  2001  NWE  QB  264  413  2843  18  12  91  41   216   3   3"
      ]
     },
     "execution_count": 113,
     "metadata": {},
     "output_type": "execute_result"
    }
   ],
   "source": [
    "final_data"
   ]
  },
  {
   "cell_type": "code",
   "execution_count": 120,
   "metadata": {},
   "outputs": [],
   "source": [
    "a = final_data.shape[0]"
   ]
  },
  {
   "cell_type": "code",
   "execution_count": 122,
   "metadata": {},
   "outputs": [
    {
     "data": {
      "text/plain": [
       "2"
      ]
     },
     "execution_count": 122,
     "metadata": {},
     "output_type": "execute_result"
    }
   ],
   "source": [
    "a"
   ]
  },
  {
   "cell_type": "code",
   "execution_count": 114,
   "metadata": {},
   "outputs": [
    {
     "data": {
      "text/plain": [
       "pandas.core.frame.DataFrame"
      ]
     },
     "execution_count": 114,
     "metadata": {},
     "output_type": "execute_result"
    }
   ],
   "source": [
    "type(final_data)"
   ]
  },
  {
   "cell_type": "code",
   "execution_count": 133,
   "metadata": {},
   "outputs": [
    {
     "data": {
      "text/html": [
       "<div>\n",
       "<style scoped>\n",
       "    .dataframe tbody tr th:only-of-type {\n",
       "        vertical-align: middle;\n",
       "    }\n",
       "\n",
       "    .dataframe tbody tr th {\n",
       "        vertical-align: top;\n",
       "    }\n",
       "\n",
       "    .dataframe thead th {\n",
       "        text-align: right;\n",
       "    }\n",
       "</style>\n",
       "<table border=\"1\" class=\"dataframe\">\n",
       "  <thead>\n",
       "    <tr style=\"text-align: right;\">\n",
       "      <th></th>\n",
       "      <th>Player_Name</th>\n",
       "      <th>Year</th>\n",
       "      <th>Tm</th>\n",
       "      <th>Pos</th>\n",
       "      <th>Cmp</th>\n",
       "      <th>Att</th>\n",
       "      <th>Yds</th>\n",
       "      <th>TD</th>\n",
       "      <th>Int</th>\n",
       "      <th>Lng</th>\n",
       "      <th>Sk</th>\n",
       "      <th>Yds.1</th>\n",
       "      <th>4QC</th>\n",
       "      <th>GWD</th>\n",
       "    </tr>\n",
       "  </thead>\n",
       "  <tbody>\n",
       "    <tr>\n",
       "      <th>0</th>\n",
       "      <td>PeytonManning</td>\n",
       "      <td>2001</td>\n",
       "      <td>IND</td>\n",
       "      <td>QB</td>\n",
       "      <td>343</td>\n",
       "      <td>547</td>\n",
       "      <td>4131</td>\n",
       "      <td>26</td>\n",
       "      <td>23</td>\n",
       "      <td>86</td>\n",
       "      <td>29</td>\n",
       "      <td>232</td>\n",
       "      <td>0</td>\n",
       "      <td>0</td>\n",
       "    </tr>\n",
       "    <tr>\n",
       "      <th>1</th>\n",
       "      <td>TomBrady</td>\n",
       "      <td>2001</td>\n",
       "      <td>NWE</td>\n",
       "      <td>QB</td>\n",
       "      <td>264</td>\n",
       "      <td>413</td>\n",
       "      <td>2843</td>\n",
       "      <td>18</td>\n",
       "      <td>12</td>\n",
       "      <td>91</td>\n",
       "      <td>41</td>\n",
       "      <td>216</td>\n",
       "      <td>3</td>\n",
       "      <td>3</td>\n",
       "    </tr>\n",
       "  </tbody>\n",
       "</table>\n",
       "</div>"
      ],
      "text/plain": [
       "     Player_Name  Year   Tm Pos  Cmp  Att   Yds  TD Int Lng  Sk Yds.1 4QC GWD\n",
       "0  PeytonManning  2001  IND  QB  343  547  4131  26  23  86  29   232   0   0\n",
       "1       TomBrady  2001  NWE  QB  264  413  2843  18  12  91  41   216   3   3"
      ]
     },
     "execution_count": 133,
     "metadata": {},
     "output_type": "execute_result"
    }
   ],
   "source": [
    "final_data"
   ]
  },
  {
   "cell_type": "code",
   "execution_count": 218,
   "metadata": {},
   "outputs": [],
   "source": [
    "# TOM BRADY V/S PEYTON MANNING\n",
    "\n",
    "def brady_manning(year1, year2):\n",
    "\n",
    "\n",
    "    for i in range(year1,year2):\n",
    "        yr_col = []\n",
    "    # For Tom Brady vs Peyton Manning\n",
    "    # As we are comparing 2 players i.e. length of QB list \n",
    "    # we have\n",
    "        QBs = ['PeytonManning','TomBrady']\n",
    "        \n",
    "        yrs = str(i)\n",
    "        file_name = yrs + '_NFL_Passing.csv'\n",
    "        dataframe = pd.read_csv(file_name)\n",
    "        dataframe.fillna(0, inplace=True)\n",
    "            \n",
    "        PlayerNames = []\n",
    "    \n",
    "        for pl in dataframe['Player']:\n",
    "            pl = re.sub('[^A-Za-z0-9]+','',pl)\n",
    "            PlayerNames.append(pl)\n",
    "    \n",
    "        dataframe['Player_Name'] = PlayerNames\n",
    "        dataframe = dataframe.drop(dataframe.columns[0], axis=1)\n",
    "        \n",
    "        final_dataframe = dataframe[dataframe['Player_Name'].isin(QBs)]\n",
    "    \n",
    "        final_dataframe.reset_index(drop=True, inplace=True)\n",
    "        rows_num = final_dataframe.shape[0]\n",
    "    \n",
    "        for j in range(rows_num):\n",
    "            yr_col.append(i)\n",
    "        \n",
    "        final_dataframe['Yr'] = yr_col\n",
    "        final_df = final_dataframe\n",
    "        #print('final_df \\n', final_df)\n",
    "                    \n",
    "        #if i == year1:\n",
    "            #rivalry = final_df\n",
    "        \n",
    "        #rivalry = riavlry.append(final_df)\n",
    "        \n",
    "        if i == year1:\n",
    "            rivalry = final_df\n",
    "        else:\n",
    "            rivalry = rivalry.append(final_df)\n",
    "\n",
    "     \n",
    "    return rivalry\n",
    "    "
   ]
  },
  {
   "cell_type": "code",
   "execution_count": 163,
   "metadata": {},
   "outputs": [
    {
     "name": "stderr",
     "output_type": "stream",
     "text": [
      "D:\\ANA\\lib\\site-packages\\ipykernel_launcher.py:36: SettingWithCopyWarning: \n",
      "A value is trying to be set on a copy of a slice from a DataFrame.\n",
      "Try using .loc[row_indexer,col_indexer] = value instead\n",
      "\n",
      "See the caveats in the documentation: https://pandas.pydata.org/pandas-docs/stable/user_guide/indexing.html#returning-a-view-versus-a-copy\n"
     ]
    },
    {
     "data": {
      "text/html": [
       "<div>\n",
       "<style scoped>\n",
       "    .dataframe tbody tr th:only-of-type {\n",
       "        vertical-align: middle;\n",
       "    }\n",
       "\n",
       "    .dataframe tbody tr th {\n",
       "        vertical-align: top;\n",
       "    }\n",
       "\n",
       "    .dataframe thead th {\n",
       "        text-align: right;\n",
       "    }\n",
       "</style>\n",
       "<table border=\"1\" class=\"dataframe\">\n",
       "  <thead>\n",
       "    <tr style=\"text-align: right;\">\n",
       "      <th></th>\n",
       "      <th>Tm</th>\n",
       "      <th>Pos</th>\n",
       "      <th>Cmp</th>\n",
       "      <th>Att</th>\n",
       "      <th>Yds</th>\n",
       "      <th>TD</th>\n",
       "      <th>Int</th>\n",
       "      <th>Lng</th>\n",
       "      <th>Sk</th>\n",
       "      <th>Yds.1</th>\n",
       "      <th>4QC</th>\n",
       "      <th>GWD</th>\n",
       "      <th>Player_Name</th>\n",
       "      <th>Yr</th>\n",
       "    </tr>\n",
       "  </thead>\n",
       "  <tbody>\n",
       "    <tr>\n",
       "      <th>0</th>\n",
       "      <td>NWE</td>\n",
       "      <td>QB</td>\n",
       "      <td>373</td>\n",
       "      <td>601</td>\n",
       "      <td>3764</td>\n",
       "      <td>28</td>\n",
       "      <td>14</td>\n",
       "      <td>49</td>\n",
       "      <td>31</td>\n",
       "      <td>190</td>\n",
       "      <td>2</td>\n",
       "      <td>3</td>\n",
       "      <td>TomBrady</td>\n",
       "      <td>2002</td>\n",
       "    </tr>\n",
       "    <tr>\n",
       "      <th>1</th>\n",
       "      <td>IND</td>\n",
       "      <td>QB</td>\n",
       "      <td>392</td>\n",
       "      <td>591</td>\n",
       "      <td>4200</td>\n",
       "      <td>27</td>\n",
       "      <td>19</td>\n",
       "      <td>69</td>\n",
       "      <td>23</td>\n",
       "      <td>145</td>\n",
       "      <td>4</td>\n",
       "      <td>5</td>\n",
       "      <td>PeytonManning</td>\n",
       "      <td>2002</td>\n",
       "    </tr>\n",
       "  </tbody>\n",
       "</table>\n",
       "</div>"
      ],
      "text/plain": [
       "    Tm Pos  Cmp  Att   Yds  TD Int Lng  Sk Yds.1 4QC GWD    Player_Name    Yr\n",
       "0  NWE  QB  373  601  3764  28  14  49  31   190   2   3       TomBrady  2002\n",
       "1  IND  QB  392  591  4200  27  19  69  23   145   4   5  PeytonManning  2002"
      ]
     },
     "execution_count": 163,
     "metadata": {},
     "output_type": "execute_result"
    }
   ],
   "source": [
    "brady_manning(2002,2003)"
   ]
  },
  {
   "cell_type": "code",
   "execution_count": 179,
   "metadata": {},
   "outputs": [
    {
     "name": "stderr",
     "output_type": "stream",
     "text": [
      "D:\\ANA\\lib\\site-packages\\ipykernel_launcher.py:36: SettingWithCopyWarning: \n",
      "A value is trying to be set on a copy of a slice from a DataFrame.\n",
      "Try using .loc[row_indexer,col_indexer] = value instead\n",
      "\n",
      "See the caveats in the documentation: https://pandas.pydata.org/pandas-docs/stable/user_guide/indexing.html#returning-a-view-versus-a-copy\n"
     ]
    }
   ],
   "source": [
    "ashu = brady_manning(2002,2003)"
   ]
  },
  {
   "cell_type": "code",
   "execution_count": 180,
   "metadata": {},
   "outputs": [
    {
     "name": "stdout",
     "output_type": "stream",
     "text": [
      "    Tm Pos  Cmp  Att   Yds  TD Int Lng  Sk Yds.1 4QC GWD    Player_Name    Yr\n",
      "0  NWE  QB  373  601  3764  28  14  49  31   190   2   3       TomBrady  2002\n",
      "1  IND  QB  392  591  4200  27  19  69  23   145   4   5  PeytonManning  2002\n"
     ]
    }
   ],
   "source": [
    "print(ashu)"
   ]
  },
  {
   "cell_type": "code",
   "execution_count": 188,
   "metadata": {},
   "outputs": [
    {
     "data": {
      "text/html": [
       "<div>\n",
       "<style scoped>\n",
       "    .dataframe tbody tr th:only-of-type {\n",
       "        vertical-align: middle;\n",
       "    }\n",
       "\n",
       "    .dataframe tbody tr th {\n",
       "        vertical-align: top;\n",
       "    }\n",
       "\n",
       "    .dataframe thead th {\n",
       "        text-align: right;\n",
       "    }\n",
       "</style>\n",
       "<table border=\"1\" class=\"dataframe\">\n",
       "  <thead>\n",
       "    <tr style=\"text-align: right;\">\n",
       "      <th></th>\n",
       "      <th>Tm</th>\n",
       "      <th>Pos</th>\n",
       "      <th>Cmp</th>\n",
       "      <th>Att</th>\n",
       "      <th>Yds</th>\n",
       "      <th>TD</th>\n",
       "      <th>Int</th>\n",
       "      <th>Lng</th>\n",
       "      <th>Sk</th>\n",
       "      <th>Yds.1</th>\n",
       "      <th>4QC</th>\n",
       "      <th>GWD</th>\n",
       "      <th>Player_Name</th>\n",
       "      <th>Yr</th>\n",
       "    </tr>\n",
       "  </thead>\n",
       "  <tbody>\n",
       "    <tr>\n",
       "      <th>0</th>\n",
       "      <td>IND</td>\n",
       "      <td>QB</td>\n",
       "      <td>343</td>\n",
       "      <td>547</td>\n",
       "      <td>4131</td>\n",
       "      <td>26</td>\n",
       "      <td>23</td>\n",
       "      <td>86</td>\n",
       "      <td>29</td>\n",
       "      <td>232</td>\n",
       "      <td>0</td>\n",
       "      <td>0</td>\n",
       "      <td>PeytonManning</td>\n",
       "      <td>2001</td>\n",
       "    </tr>\n",
       "    <tr>\n",
       "      <th>1</th>\n",
       "      <td>NWE</td>\n",
       "      <td>QB</td>\n",
       "      <td>264</td>\n",
       "      <td>413</td>\n",
       "      <td>2843</td>\n",
       "      <td>18</td>\n",
       "      <td>12</td>\n",
       "      <td>91</td>\n",
       "      <td>41</td>\n",
       "      <td>216</td>\n",
       "      <td>3</td>\n",
       "      <td>3</td>\n",
       "      <td>TomBrady</td>\n",
       "      <td>2001</td>\n",
       "    </tr>\n",
       "  </tbody>\n",
       "</table>\n",
       "</div>"
      ],
      "text/plain": [
       "    Tm Pos  Cmp  Att   Yds  TD Int Lng  Sk Yds.1 4QC GWD    Player_Name    Yr\n",
       "0  IND  QB  343  547  4131  26  23  86  29   232   0   0  PeytonManning  2001\n",
       "1  NWE  QB  264  413  2843  18  12  91  41   216   3   3       TomBrady  2001"
      ]
     },
     "execution_count": 188,
     "metadata": {},
     "output_type": "execute_result"
    }
   ],
   "source": [
    "final_data2"
   ]
  },
  {
   "cell_type": "code",
   "execution_count": 189,
   "metadata": {},
   "outputs": [],
   "source": [
    "cc = final_data2.append(ashu)"
   ]
  },
  {
   "cell_type": "code",
   "execution_count": 190,
   "metadata": {},
   "outputs": [
    {
     "data": {
      "text/html": [
       "<div>\n",
       "<style scoped>\n",
       "    .dataframe tbody tr th:only-of-type {\n",
       "        vertical-align: middle;\n",
       "    }\n",
       "\n",
       "    .dataframe tbody tr th {\n",
       "        vertical-align: top;\n",
       "    }\n",
       "\n",
       "    .dataframe thead th {\n",
       "        text-align: right;\n",
       "    }\n",
       "</style>\n",
       "<table border=\"1\" class=\"dataframe\">\n",
       "  <thead>\n",
       "    <tr style=\"text-align: right;\">\n",
       "      <th></th>\n",
       "      <th>Tm</th>\n",
       "      <th>Pos</th>\n",
       "      <th>Cmp</th>\n",
       "      <th>Att</th>\n",
       "      <th>Yds</th>\n",
       "      <th>TD</th>\n",
       "      <th>Int</th>\n",
       "      <th>Lng</th>\n",
       "      <th>Sk</th>\n",
       "      <th>Yds.1</th>\n",
       "      <th>4QC</th>\n",
       "      <th>GWD</th>\n",
       "      <th>Player_Name</th>\n",
       "      <th>Yr</th>\n",
       "    </tr>\n",
       "  </thead>\n",
       "  <tbody>\n",
       "    <tr>\n",
       "      <th>0</th>\n",
       "      <td>IND</td>\n",
       "      <td>QB</td>\n",
       "      <td>343</td>\n",
       "      <td>547</td>\n",
       "      <td>4131</td>\n",
       "      <td>26</td>\n",
       "      <td>23</td>\n",
       "      <td>86</td>\n",
       "      <td>29</td>\n",
       "      <td>232</td>\n",
       "      <td>0</td>\n",
       "      <td>0</td>\n",
       "      <td>PeytonManning</td>\n",
       "      <td>2001</td>\n",
       "    </tr>\n",
       "    <tr>\n",
       "      <th>1</th>\n",
       "      <td>NWE</td>\n",
       "      <td>QB</td>\n",
       "      <td>264</td>\n",
       "      <td>413</td>\n",
       "      <td>2843</td>\n",
       "      <td>18</td>\n",
       "      <td>12</td>\n",
       "      <td>91</td>\n",
       "      <td>41</td>\n",
       "      <td>216</td>\n",
       "      <td>3</td>\n",
       "      <td>3</td>\n",
       "      <td>TomBrady</td>\n",
       "      <td>2001</td>\n",
       "    </tr>\n",
       "    <tr>\n",
       "      <th>0</th>\n",
       "      <td>NWE</td>\n",
       "      <td>QB</td>\n",
       "      <td>373</td>\n",
       "      <td>601</td>\n",
       "      <td>3764</td>\n",
       "      <td>28</td>\n",
       "      <td>14</td>\n",
       "      <td>49</td>\n",
       "      <td>31</td>\n",
       "      <td>190</td>\n",
       "      <td>2</td>\n",
       "      <td>3</td>\n",
       "      <td>TomBrady</td>\n",
       "      <td>2002</td>\n",
       "    </tr>\n",
       "    <tr>\n",
       "      <th>1</th>\n",
       "      <td>IND</td>\n",
       "      <td>QB</td>\n",
       "      <td>392</td>\n",
       "      <td>591</td>\n",
       "      <td>4200</td>\n",
       "      <td>27</td>\n",
       "      <td>19</td>\n",
       "      <td>69</td>\n",
       "      <td>23</td>\n",
       "      <td>145</td>\n",
       "      <td>4</td>\n",
       "      <td>5</td>\n",
       "      <td>PeytonManning</td>\n",
       "      <td>2002</td>\n",
       "    </tr>\n",
       "  </tbody>\n",
       "</table>\n",
       "</div>"
      ],
      "text/plain": [
       "    Tm Pos  Cmp  Att   Yds  TD Int Lng  Sk Yds.1 4QC GWD    Player_Name    Yr\n",
       "0  IND  QB  343  547  4131  26  23  86  29   232   0   0  PeytonManning  2001\n",
       "1  NWE  QB  264  413  2843  18  12  91  41   216   3   3       TomBrady  2001\n",
       "0  NWE  QB  373  601  3764  28  14  49  31   190   2   3       TomBrady  2002\n",
       "1  IND  QB  392  591  4200  27  19  69  23   145   4   5  PeytonManning  2002"
      ]
     },
     "execution_count": 190,
     "metadata": {},
     "output_type": "execute_result"
    }
   ],
   "source": [
    "cc"
   ]
  },
  {
   "cell_type": "code",
   "execution_count": 191,
   "metadata": {},
   "outputs": [
    {
     "name": "stdout",
     "output_type": "stream",
     "text": [
      "<class 'pandas.core.frame.DataFrame'>\n"
     ]
    }
   ],
   "source": [
    "print(type(cc))"
   ]
  },
  {
   "cell_type": "code",
   "execution_count": 192,
   "metadata": {},
   "outputs": [],
   "source": [
    "group_by_f2 = cc.groupby('Player_Name')"
   ]
  },
  {
   "cell_type": "code",
   "execution_count": 196,
   "metadata": {},
   "outputs": [],
   "source": [
    "Peyton_Manning = group_by_f2.get_group('PeytonManning')"
   ]
  },
  {
   "cell_type": "code",
   "execution_count": 197,
   "metadata": {},
   "outputs": [],
   "source": [
    "Tom_Brady = group_by_f2.get_group('TomBrady')"
   ]
  },
  {
   "cell_type": "code",
   "execution_count": 198,
   "metadata": {},
   "outputs": [
    {
     "data": {
      "text/html": [
       "<div>\n",
       "<style scoped>\n",
       "    .dataframe tbody tr th:only-of-type {\n",
       "        vertical-align: middle;\n",
       "    }\n",
       "\n",
       "    .dataframe tbody tr th {\n",
       "        vertical-align: top;\n",
       "    }\n",
       "\n",
       "    .dataframe thead th {\n",
       "        text-align: right;\n",
       "    }\n",
       "</style>\n",
       "<table border=\"1\" class=\"dataframe\">\n",
       "  <thead>\n",
       "    <tr style=\"text-align: right;\">\n",
       "      <th></th>\n",
       "      <th>Tm</th>\n",
       "      <th>Pos</th>\n",
       "      <th>Cmp</th>\n",
       "      <th>Att</th>\n",
       "      <th>Yds</th>\n",
       "      <th>TD</th>\n",
       "      <th>Int</th>\n",
       "      <th>Lng</th>\n",
       "      <th>Sk</th>\n",
       "      <th>Yds.1</th>\n",
       "      <th>4QC</th>\n",
       "      <th>GWD</th>\n",
       "      <th>Player_Name</th>\n",
       "      <th>Yr</th>\n",
       "    </tr>\n",
       "  </thead>\n",
       "  <tbody>\n",
       "    <tr>\n",
       "      <th>0</th>\n",
       "      <td>IND</td>\n",
       "      <td>QB</td>\n",
       "      <td>343</td>\n",
       "      <td>547</td>\n",
       "      <td>4131</td>\n",
       "      <td>26</td>\n",
       "      <td>23</td>\n",
       "      <td>86</td>\n",
       "      <td>29</td>\n",
       "      <td>232</td>\n",
       "      <td>0</td>\n",
       "      <td>0</td>\n",
       "      <td>PeytonManning</td>\n",
       "      <td>2001</td>\n",
       "    </tr>\n",
       "    <tr>\n",
       "      <th>1</th>\n",
       "      <td>IND</td>\n",
       "      <td>QB</td>\n",
       "      <td>392</td>\n",
       "      <td>591</td>\n",
       "      <td>4200</td>\n",
       "      <td>27</td>\n",
       "      <td>19</td>\n",
       "      <td>69</td>\n",
       "      <td>23</td>\n",
       "      <td>145</td>\n",
       "      <td>4</td>\n",
       "      <td>5</td>\n",
       "      <td>PeytonManning</td>\n",
       "      <td>2002</td>\n",
       "    </tr>\n",
       "  </tbody>\n",
       "</table>\n",
       "</div>"
      ],
      "text/plain": [
       "    Tm Pos  Cmp  Att   Yds  TD Int Lng  Sk Yds.1 4QC GWD    Player_Name    Yr\n",
       "0  IND  QB  343  547  4131  26  23  86  29   232   0   0  PeytonManning  2001\n",
       "1  IND  QB  392  591  4200  27  19  69  23   145   4   5  PeytonManning  2002"
      ]
     },
     "execution_count": 198,
     "metadata": {},
     "output_type": "execute_result"
    }
   ],
   "source": [
    "Peyton_Manning"
   ]
  },
  {
   "cell_type": "code",
   "execution_count": 199,
   "metadata": {},
   "outputs": [
    {
     "data": {
      "text/html": [
       "<div>\n",
       "<style scoped>\n",
       "    .dataframe tbody tr th:only-of-type {\n",
       "        vertical-align: middle;\n",
       "    }\n",
       "\n",
       "    .dataframe tbody tr th {\n",
       "        vertical-align: top;\n",
       "    }\n",
       "\n",
       "    .dataframe thead th {\n",
       "        text-align: right;\n",
       "    }\n",
       "</style>\n",
       "<table border=\"1\" class=\"dataframe\">\n",
       "  <thead>\n",
       "    <tr style=\"text-align: right;\">\n",
       "      <th></th>\n",
       "      <th>Tm</th>\n",
       "      <th>Pos</th>\n",
       "      <th>Cmp</th>\n",
       "      <th>Att</th>\n",
       "      <th>Yds</th>\n",
       "      <th>TD</th>\n",
       "      <th>Int</th>\n",
       "      <th>Lng</th>\n",
       "      <th>Sk</th>\n",
       "      <th>Yds.1</th>\n",
       "      <th>4QC</th>\n",
       "      <th>GWD</th>\n",
       "      <th>Player_Name</th>\n",
       "      <th>Yr</th>\n",
       "    </tr>\n",
       "  </thead>\n",
       "  <tbody>\n",
       "    <tr>\n",
       "      <th>1</th>\n",
       "      <td>NWE</td>\n",
       "      <td>QB</td>\n",
       "      <td>264</td>\n",
       "      <td>413</td>\n",
       "      <td>2843</td>\n",
       "      <td>18</td>\n",
       "      <td>12</td>\n",
       "      <td>91</td>\n",
       "      <td>41</td>\n",
       "      <td>216</td>\n",
       "      <td>3</td>\n",
       "      <td>3</td>\n",
       "      <td>TomBrady</td>\n",
       "      <td>2001</td>\n",
       "    </tr>\n",
       "    <tr>\n",
       "      <th>0</th>\n",
       "      <td>NWE</td>\n",
       "      <td>QB</td>\n",
       "      <td>373</td>\n",
       "      <td>601</td>\n",
       "      <td>3764</td>\n",
       "      <td>28</td>\n",
       "      <td>14</td>\n",
       "      <td>49</td>\n",
       "      <td>31</td>\n",
       "      <td>190</td>\n",
       "      <td>2</td>\n",
       "      <td>3</td>\n",
       "      <td>TomBrady</td>\n",
       "      <td>2002</td>\n",
       "    </tr>\n",
       "  </tbody>\n",
       "</table>\n",
       "</div>"
      ],
      "text/plain": [
       "    Tm Pos  Cmp  Att   Yds  TD Int Lng  Sk Yds.1 4QC GWD Player_Name    Yr\n",
       "1  NWE  QB  264  413  2843  18  12  91  41   216   3   3    TomBrady  2001\n",
       "0  NWE  QB  373  601  3764  28  14  49  31   190   2   3    TomBrady  2002"
      ]
     },
     "execution_count": 199,
     "metadata": {},
     "output_type": "execute_result"
    }
   ],
   "source": [
    "Tom_Brady"
   ]
  },
  {
   "cell_type": "code",
   "execution_count": 200,
   "metadata": {},
   "outputs": [
    {
     "data": {
      "text/html": [
       "<div>\n",
       "<style scoped>\n",
       "    .dataframe tbody tr th:only-of-type {\n",
       "        vertical-align: middle;\n",
       "    }\n",
       "\n",
       "    .dataframe tbody tr th {\n",
       "        vertical-align: top;\n",
       "    }\n",
       "\n",
       "    .dataframe thead th {\n",
       "        text-align: right;\n",
       "    }\n",
       "</style>\n",
       "<table border=\"1\" class=\"dataframe\">\n",
       "  <thead>\n",
       "    <tr style=\"text-align: right;\">\n",
       "      <th></th>\n",
       "      <th>Tm</th>\n",
       "      <th>Pos</th>\n",
       "      <th>Cmp</th>\n",
       "      <th>Att</th>\n",
       "      <th>Yds</th>\n",
       "      <th>TD</th>\n",
       "      <th>Int</th>\n",
       "      <th>Lng</th>\n",
       "      <th>Sk</th>\n",
       "      <th>Yds.1</th>\n",
       "      <th>4QC</th>\n",
       "      <th>GWD</th>\n",
       "      <th>Player_Name</th>\n",
       "      <th>Yr</th>\n",
       "    </tr>\n",
       "  </thead>\n",
       "  <tbody>\n",
       "    <tr>\n",
       "      <th>0</th>\n",
       "      <td>IND</td>\n",
       "      <td>QB</td>\n",
       "      <td>343</td>\n",
       "      <td>547</td>\n",
       "      <td>4131</td>\n",
       "      <td>26</td>\n",
       "      <td>23</td>\n",
       "      <td>86</td>\n",
       "      <td>29</td>\n",
       "      <td>232</td>\n",
       "      <td>0</td>\n",
       "      <td>0</td>\n",
       "      <td>PeytonManning</td>\n",
       "      <td>2001</td>\n",
       "    </tr>\n",
       "    <tr>\n",
       "      <th>1</th>\n",
       "      <td>NWE</td>\n",
       "      <td>QB</td>\n",
       "      <td>264</td>\n",
       "      <td>413</td>\n",
       "      <td>2843</td>\n",
       "      <td>18</td>\n",
       "      <td>12</td>\n",
       "      <td>91</td>\n",
       "      <td>41</td>\n",
       "      <td>216</td>\n",
       "      <td>3</td>\n",
       "      <td>3</td>\n",
       "      <td>TomBrady</td>\n",
       "      <td>2001</td>\n",
       "    </tr>\n",
       "  </tbody>\n",
       "</table>\n",
       "</div>"
      ],
      "text/plain": [
       "    Tm Pos  Cmp  Att   Yds  TD Int Lng  Sk Yds.1 4QC GWD    Player_Name    Yr\n",
       "0  IND  QB  343  547  4131  26  23  86  29   232   0   0  PeytonManning  2001\n",
       "1  NWE  QB  264  413  2843  18  12  91  41   216   3   3       TomBrady  2001"
      ]
     },
     "execution_count": 200,
     "metadata": {},
     "output_type": "execute_result"
    }
   ],
   "source": [
    "final_data2"
   ]
  },
  {
   "cell_type": "code",
   "execution_count": 219,
   "metadata": {},
   "outputs": [
    {
     "name": "stderr",
     "output_type": "stream",
     "text": [
      "D:\\ANA\\lib\\site-packages\\ipykernel_launcher.py:35: SettingWithCopyWarning: \n",
      "A value is trying to be set on a copy of a slice from a DataFrame.\n",
      "Try using .loc[row_indexer,col_indexer] = value instead\n",
      "\n",
      "See the caveats in the documentation: https://pandas.pydata.org/pandas-docs/stable/user_guide/indexing.html#returning-a-view-versus-a-copy\n"
     ]
    }
   ],
   "source": [
    "answer = brady_manning(2001, 2004)"
   ]
  },
  {
   "cell_type": "code",
   "execution_count": 220,
   "metadata": {},
   "outputs": [
    {
     "name": "stdout",
     "output_type": "stream",
     "text": [
      "    Tm Pos  Cmp  Att   Yds  TD Int Lng  Sk Yds.1 4QC GWD    Player_Name    Yr\n",
      "0  IND  QB  343  547  4131  26  23  86  29   232   0   0  PeytonManning  2001\n",
      "1  NWE  QB  264  413  2843  18  12  91  41   216   3   3       TomBrady  2001\n",
      "0  NWE  QB  373  601  3764  28  14  49  31   190   2   3       TomBrady  2002\n",
      "1  IND  QB  392  591  4200  27  19  69  23   145   4   5  PeytonManning  2002\n",
      "0  IND  QB  379  566  4267  29  10  79  18   107   3   4  PeytonManning  2003\n",
      "1  NWE  QB  317  527  3620  23  12  82  32   219   3   5       TomBrady  2003\n"
     ]
    }
   ],
   "source": [
    "print(answer)"
   ]
  },
  {
   "cell_type": "code",
   "execution_count": 223,
   "metadata": {},
   "outputs": [
    {
     "name": "stderr",
     "output_type": "stream",
     "text": [
      "D:\\ANA\\lib\\site-packages\\ipykernel_launcher.py:35: SettingWithCopyWarning: \n",
      "A value is trying to be set on a copy of a slice from a DataFrame.\n",
      "Try using .loc[row_indexer,col_indexer] = value instead\n",
      "\n",
      "See the caveats in the documentation: https://pandas.pydata.org/pandas-docs/stable/user_guide/indexing.html#returning-a-view-versus-a-copy\n"
     ]
    }
   ],
   "source": [
    "legacy = brady_manning(2001,2011)"
   ]
  },
  {
   "cell_type": "code",
   "execution_count": 224,
   "metadata": {},
   "outputs": [
    {
     "name": "stdout",
     "output_type": "stream",
     "text": [
      "    Tm Pos  Cmp  Att   Yds  TD Int Lng  Sk Yds.1 4QC GWD    Player_Name    Yr\n",
      "0  IND  QB  343  547  4131  26  23  86  29   232   0   0  PeytonManning  2001\n",
      "1  NWE  QB  264  413  2843  18  12  91  41   216   3   3       TomBrady  2001\n",
      "0  NWE  QB  373  601  3764  28  14  49  31   190   2   3       TomBrady  2002\n",
      "1  IND  QB  392  591  4200  27  19  69  23   145   4   5  PeytonManning  2002\n",
      "0  IND  QB  379  566  4267  29  10  79  18   107   3   4  PeytonManning  2003\n",
      "1  NWE  QB  317  527  3620  23  12  82  32   219   3   5       TomBrady  2003\n",
      "0  IND  QB  336  497  4557  49  10  80  13   101   2   4  PeytonManning  2004\n",
      "1  NWE  QB  288  474  3692  28  14  50  26   162   0   1       TomBrady  2004\n",
      "0  NWE  QB  334  530  4110  26  14  71  26   188   3   4       TomBrady  2005\n",
      "1  IND  QB  305  453  3747  28  10  80  17    81   1   1  PeytonManning  2005\n",
      "0  IND  QB  362  557  4397  31   9  68  14    86   3   3  PeytonManning  2006\n",
      "1  NWE  QB  319  516  3529  24  12  62  26   175   2   2       TomBrady  2006\n",
      "0  NWE  QB  398  578  4806  50   8  69  21   128   4   4       TomBrady  2007\n",
      "1  IND  QB  337  515  4040  31  14  73  21   124   1   2  PeytonManning  2007\n",
      "0  IND  QB  371  555  4002  27  12  75  14    86   4   6  PeytonManning  2008\n",
      "1  NWE   0    7   11    76   0   0  26   0     0   0   0       TomBrady  2008\n",
      "0  IND  QB  393  571  4500  33  16  80  10    74   7   7  PeytonManning  2009\n",
      "1  NWE  QB  371  565  4398  28  13  81  16    86   1   1       TomBrady  2009\n",
      "0  IND  QB  450  679  4700  33  17  73  16    91   0   2  PeytonManning  2010\n",
      "1  NWE  QB  324  492  3900  36   4  79  25   175   2   3       TomBrady  2010\n"
     ]
    }
   ],
   "source": [
    "print(legacy)"
   ]
  },
  {
   "cell_type": "code",
   "execution_count": null,
   "metadata": {},
   "outputs": [],
   "source": []
  }
 ],
 "metadata": {
  "kernelspec": {
   "display_name": "Python 3",
   "language": "python",
   "name": "python3"
  },
  "language_info": {
   "codemirror_mode": {
    "name": "ipython",
    "version": 3
   },
   "file_extension": ".py",
   "mimetype": "text/x-python",
   "name": "python",
   "nbconvert_exporter": "python",
   "pygments_lexer": "ipython3",
   "version": "3.7.6"
  }
 },
 "nbformat": 4,
 "nbformat_minor": 4
}
